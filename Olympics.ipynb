{
 "cells": [
  {
   "cell_type": "markdown",
   "metadata": {},
   "source": [
    "# Evaluate the Summer Olympics, London 2012 dataset\n"
   ]
  },
  {
   "cell_type": "markdown",
   "metadata": {},
   "source": [
    "#### 1: View and add the dataset"
   ]
  },
  {
   "cell_type": "code",
   "execution_count": 1,
   "metadata": {},
   "outputs": [],
   "source": [
    "#Import the necessary library\n",
    "import numpy as np"
   ]
  },
  {
   "cell_type": "code",
   "execution_count": 29,
   "metadata": {},
   "outputs": [],
   "source": [
    "#Manually add the Summer Olympics, London 2012 dataset as arrays\n",
    "country=np.array([\"GBR\",\"CHN\",\"RUS\",\"US\",\"KOR\",\"JPN\",\"GER\"])\n",
    "gold=np.array([29,38,24,46,13,7,11])\n",
    "silver=np.array([17,28,25,28,8,14,11])\n",
    "bronze=np.array([19,22,32,29,7,17,14])\n"
   ]
  },
  {
   "cell_type": "markdown",
   "metadata": {},
   "source": [
    "#### Find the country with maximum gold medals"
   ]
  },
  {
   "cell_type": "code",
   "execution_count": 30,
   "metadata": {},
   "outputs": [
    {
     "data": {
      "text/plain": [
       "46"
      ]
     },
     "execution_count": 30,
     "metadata": {},
     "output_type": "execute_result"
    }
   ],
   "source": [
    "#Use the argmax() method to find the highest number of gold medals\n",
    "gold[gold.argmax()]"
   ]
  },
  {
   "cell_type": "code",
   "execution_count": 31,
   "metadata": {},
   "outputs": [
    {
     "data": {
      "text/plain": [
       "'US'"
      ]
     },
     "execution_count": 31,
     "metadata": {},
     "output_type": "execute_result"
    }
   ],
   "source": [
    "#Print the name of the country\n",
    "country[gold.argmax()]"
   ]
  },
  {
   "cell_type": "markdown",
   "metadata": {},
   "source": [
    "#### Find the countries with more than 20 gold medals"
   ]
  },
  {
   "cell_type": "code",
   "execution_count": 32,
   "metadata": {},
   "outputs": [
    {
     "data": {
      "text/plain": [
       "array(['GBR', 'CHN', 'RUS', 'US'], dtype='<U3')"
      ]
     },
     "execution_count": 32,
     "metadata": {},
     "output_type": "execute_result"
    }
   ],
   "source": [
    "#Use Boolean indexing technique to find the required out\n",
    "x=country[gold>20]\n",
    "x\n",
    "\n"
   ]
  },
  {
   "cell_type": "markdown",
   "metadata": {},
   "source": [
    "#### Evaluate the dataset and print the name of each country with its gold medals and total number of medals"
   ]
  },
  {
   "cell_type": "code",
   "execution_count": 34,
   "metadata": {},
   "outputs": [
    {
     "name": "stdout",
     "output_type": "stream",
     "text": [
      "Country: GBR, Gold Medals: 29, Total Medals: 65\n",
      "Country: CHN, Gold Medals: 38, Total Medals: 88\n",
      "Country: RUS, Gold Medals: 24, Total Medals: 81\n",
      "Country: US, Gold Medals: 46, Total Medals: 103\n",
      "Country: KOR, Gold Medals: 13, Total Medals: 28\n",
      "Country: JPN, Gold Medals: 7, Total Medals: 38\n",
      "Country: GER, Gold Medals: 11, Total Medals: 36\n"
     ]
    }
   ],
   "source": [
    "#Use a for loop to create the required output\n",
    "\n",
    "for i in range(len(country)):\n",
    "    c=country[i]\n",
    "    g=gold[i]\n",
    "    t=gold[i]+silver[i]+bronze[i]\n",
    "    print(\"Country: {}, Gold Medals: {}, Total Medals: {}\".format(c,g,t))\n",
    "    \n",
    "   "
   ]
  },
  {
   "cell_type": "code",
   "execution_count": null,
   "metadata": {},
   "outputs": [],
   "source": []
  }
 ],
 "metadata": {
  "kernelspec": {
   "display_name": "Python 3 (ipykernel)",
   "language": "python",
   "name": "python3"
  },
  "language_info": {
   "codemirror_mode": {
    "name": "ipython",
    "version": 3
   },
   "file_extension": ".py",
   "mimetype": "text/x-python",
   "name": "python",
   "nbconvert_exporter": "python",
   "pygments_lexer": "ipython3",
   "version": "3.9.12"
  }
 },
 "nbformat": 4,
 "nbformat_minor": 1
}
