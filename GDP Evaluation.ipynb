{
 "cells": [
  {
   "cell_type": "markdown",
   "metadata": {},
   "source": [
    "\n",
    "# Evaluate the GDP Dataset"
   ]
  },
  {
   "cell_type": "markdown",
   "metadata": {},
   "source": [
    "#### 1: View and add the dataset"
   ]
  },
  {
   "cell_type": "code",
   "execution_count": 1,
   "metadata": {},
   "outputs": [],
   "source": [
    "#Import required library\n",
    "import numpy as np"
   ]
  },
  {
   "cell_type": "code",
   "execution_count": 18,
   "metadata": {},
   "outputs": [
    {
     "data": {
      "text/plain": [
       "array([['Algeria', 'Angola', 'Argentina', 'Australia', 'Austria',\n",
       "        'Bahamas', 'Bangladesh', 'Belarus', 'Belgium', 'Bhutan',\n",
       "        'Brazil', 'Bulgaria', 'Cambodia', 'Cameroon', 'Chile', 'China',\n",
       "        'Colombia', 'Cyprus', 'Denmark', 'El Salvador', 'Estonia',\n",
       "        'Ethiopia', 'Fiji', 'Finland', 'France', 'Georgia', 'Ghana',\n",
       "        'Grenada', 'Guinea', 'Haiti', 'Honduras', 'Hungary', 'India',\n",
       "        'Indonesia', 'Ireland', 'Italy', 'Japan', 'Kenya', 'South Korea',\n",
       "        'Liberia', 'Malaysia', 'Mexico', 'Morocco', 'Nepal',\n",
       "        'New Zealand', 'Norway', 'Pakistan', 'Peru', 'Qatar', 'Russia',\n",
       "        'Singapore', 'South Africa', 'Spain', 'Sweden', 'Switzerland',\n",
       "        'Thailand', 'United Arab Emirates', 'United Kingdom',\n",
       "        'United States', 'Uruguay', 'Venezuela', 'Vietnam', 'Zimbabwe'],\n",
       "       ['2255.225482', '629.9553062', '11601.63022', '25306.82494',\n",
       "        '27266.40335', '19466.99052', '588.3691778', '2890.345675',\n",
       "        '24733.62696', '1445.760002', '4803.398244', '2618.876037',\n",
       "        '590.4521124', '665.7982328', '7122.938458', '2639.54156',\n",
       "        '3362.4656', '15378.16704', '30860.12808', '2579.115607',\n",
       "        '6525.541272', '229.6769525', '2242.689259', '27570.4852',\n",
       "        '23016.84778', '1334.646773', '402.6953275', '6047.200797',\n",
       "        '394.1156638', '385.5793827', '1414.072488', '5745.981529',\n",
       "        '837.7464011', '1206.991065', '27715.52837', '18937.24998',\n",
       "        '39578.07441', '478.2194906', '16684.21278', '279.2204061',\n",
       "        '5345.213415', '6288.25324', '1908.304416', '274.8728621',\n",
       "        '14646.42094', '40034.85063', '672.1547506', '3359.517402',\n",
       "        '36152.66676', '3054.727742', '33529.83052', '3825.093781',\n",
       "        '15428.32098', '33630.24604', '39170.41371', '2699.123242',\n",
       "        '21058.43643', '28272.40661', '37691.02733', '9581.05659',\n",
       "        '5671.912202', '757.4009286', '347.7456605']], dtype='<U32')"
      ]
     },
     "execution_count": 18,
     "metadata": {},
     "output_type": "execute_result"
    }
   ],
   "source": [
    "#Manually add the dataset\n",
    "countriesGDP=np.array([['Algeria','Angola','Argentina','Australia','Austria','Bahamas','Bangladesh','Belarus','Belgium','Bhutan','Brazil','Bulgaria','Cambodia','Cameroon','Chile','China','Colombia','Cyprus','Denmark','El Salvador','Estonia','Ethiopia','Fiji','Finland','France','Georgia','Ghana','Grenada','Guinea','Haiti','Honduras','Hungary','India','Indonesia','Ireland','Italy','Japan','Kenya', 'South Korea','Liberia','Malaysia','Mexico', 'Morocco','Nepal','New Zealand','Norway','Pakistan', 'Peru','Qatar','Russia','Singapore','South Africa','Spain','Sweden','Switzerland','Thailand', 'United Arab Emirates','United Kingdom','United States','Uruguay','Venezuela','Vietnam','Zimbabwe'\n",
    "],[2255.225482,629.9553062,11601.63022,25306.82494,27266.40335,19466.99052,588.3691778,2890.345675,24733.62696,1445.760002,4803.398244,2618.876037,590.4521124,665.7982328,7122.938458,2639.54156,3362.4656,15378.16704,30860.12808,2579.115607,6525.541272,229.6769525,2242.689259,27570.4852,23016.84778,1334.646773,402.6953275,6047.200797,394.1156638,385.5793827,1414.072488,5745.981529,837.7464011,1206.991065,27715.52837,18937.24998,39578.07441,478.2194906,16684.21278,279.2204061,5345.213415,6288.25324,1908.304416,274.8728621,14646.42094,40034.85063,672.1547506,3359.517402,36152.66676,3054.727742,33529.83052,3825.093781,15428.32098,33630.24604,39170.41371,2699.123242,21058.43643,28272.40661,37691.02733,9581.05659,5671.912202,757.4009286,347.7456605]])\n",
    "countriesGDP"
   ]
  },
  {
   "cell_type": "code",
   "execution_count": 7,
   "metadata": {},
   "outputs": [
    {
     "data": {
      "text/plain": [
       "array([ 2255.225482 ,   629.9553062, 11601.63022  , 25306.82494  ,\n",
       "       27266.40335  , 19466.99052  ,   588.3691778,  2890.345675 ,\n",
       "       24733.62696  ,  1445.760002 ,  4803.398244 ,  2618.876037 ,\n",
       "         590.4521124,   665.7982328,  7122.938458 ,  2639.54156  ,\n",
       "        3362.4656   , 15378.16704  , 30860.12808  ,  2579.115607 ,\n",
       "        6525.541272 ,   229.6769525,  2242.689259 , 27570.4852   ,\n",
       "       23016.84778  ,  1334.646773 ,   402.6953275,  6047.200797 ,\n",
       "         394.1156638,   385.5793827,  1414.072488 ,  5745.981529 ,\n",
       "         837.7464011,  1206.991065 , 27715.52837  , 18937.24998  ,\n",
       "       39578.07441  ,   478.2194906, 16684.21278  ,   279.2204061,\n",
       "        5345.213415 ,  6288.25324  ,  1908.304416 ,   274.8728621,\n",
       "       14646.42094  , 40034.85063  ,   672.1547506,  3359.517402 ,\n",
       "       36152.66676  ,  3054.727742 , 33529.83052  ,  3825.093781 ,\n",
       "       15428.32098  , 33630.24604  , 39170.41371  ,  2699.123242 ,\n",
       "       21058.43643  , 28272.40661  , 37691.02733  ,  9581.05659  ,\n",
       "        5671.912202 ,   757.4009286,   347.7456605])"
      ]
     },
     "execution_count": 7,
     "metadata": {},
     "output_type": "execute_result"
    }
   ],
   "source": [
    "GDP= np.array([ 2255.225482,629.9553062,11601.63022,25306.82494,27266.40335,19466.99052,588.3691778,2890.345675,24733.62696,1445.760002,4803.398244,2618.876037,590.4521124,665.7982328,7122.938458,2639.54156,3362.4656,15378.16704,30860.12808,2579.115607,6525.541272,229.6769525,2242.689259,27570.4852,23016.84778,1334.646773,402.6953275,6047.200797,394.1156638,385.5793827,1414.072488,5745.981529,837.7464011,1206.991065,27715.52837,18937.24998,39578.07441,478.2194906,16684.21278,279.2204061,5345.213415,6288.25324,1908.304416,274.8728621,14646.42094,40034.85063,672.1547506,3359.517402,36152.66676,3054.727742,33529.83052,3825.093781,15428.32098,33630.24604,39170.41371,2699.123242,21058.43643,28272.40661,37691.02733,9581.05659,5671.912202,757.4009286,347.7456605])\n",
    "GDP"
   ]
  },
  {
   "cell_type": "code",
   "execution_count": 17,
   "metadata": {},
   "outputs": [
    {
     "data": {
      "text/plain": [
       "array(['Algeria', 'Angola', 'Argentina', 'Australia', 'Austria',\n",
       "       'Bahamas', 'Bangladesh', 'Belarus', 'Belgium', 'Bhutan', 'Brazil',\n",
       "       'Bulgaria', 'Cambodia', 'Cameroon', 'Chile', 'China', 'Colombia',\n",
       "       'Cyprus', 'Denmark', 'El Salvador', 'Estonia', 'Ethiopia', 'Fiji',\n",
       "       'Finland', 'France', 'Georgia', 'Ghana', 'Grenada', 'Guinea',\n",
       "       'Haiti', 'Honduras', 'Hungary', 'India', 'Indonesia', 'Ireland',\n",
       "       'Italy', 'Japan', 'Kenya', 'South Korea', 'Liberia', 'Malaysia',\n",
       "       'Mexico', 'Morocco', 'Nepal', 'New Zealand', 'Norway', 'Pakistan',\n",
       "       'Peru', 'Qatar', 'Russia', 'Singapore', 'South Africa', 'Spain',\n",
       "       'Sweden', 'Switzerland', 'Thailand', 'United Arab Emirates',\n",
       "       'United Kingdom', 'United States', 'Uruguay', 'Venezuela',\n",
       "       'Vietnam', 'Zimbabwe'], dtype='<U20')"
      ]
     },
     "execution_count": 17,
     "metadata": {},
     "output_type": "execute_result"
    }
   ],
   "source": [
    "countries=np.array(['Algeria','Angola','Argentina','Australia','Austria','Bahamas','Bangladesh','Belarus','Belgium','Bhutan','Brazil','Bulgaria','Cambodia','Cameroon','Chile','China','Colombia','Cyprus','Denmark','El Salvador','Estonia','Ethiopia','Fiji','Finland','France','Georgia','Ghana','Grenada','Guinea','Haiti','Honduras','Hungary','India','Indonesia','Ireland','Italy','Japan','Kenya', 'South Korea','Liberia','Malaysia','Mexico', 'Morocco','Nepal','New Zealand','Norway','Pakistan', 'Peru','Qatar','Russia','Singapore','South Africa','Spain','Sweden','Switzerland','Thailand', 'United Arab Emirates','United Kingdom','United States','Uruguay','Venezuela','Vietnam','Zimbabwe'\n",
    "])\n",
    "countries"
   ]
  },
  {
   "cell_type": "markdown",
   "metadata": {
    "collapsed": true
   },
   "source": [
    "#### 2: Find and print the name of the country with the highest GDP"
   ]
  },
  {
   "cell_type": "code",
   "execution_count": 25,
   "metadata": {},
   "outputs": [
    {
     "data": {
      "text/plain": [
       "40034.85063"
      ]
     },
     "execution_count": 25,
     "metadata": {},
     "output_type": "execute_result"
    }
   ],
   "source": [
    "#Use the argmax() method to find the highest GDP\n",
    "GDP[np.argmax(GDP)]"
   ]
  },
  {
   "cell_type": "code",
   "execution_count": 12,
   "metadata": {
    "collapsed": true
   },
   "outputs": [],
   "source": [
    "#Print the name of the country\n",
    "countries[GDP.argmax()]"
   ]
  },
  {
   "cell_type": "markdown",
   "metadata": {},
   "source": [
    "#### 3: Find and print the name of the country with the lowest GDP"
   ]
  },
  {
   "cell_type": "code",
   "execution_count": 26,
   "metadata": {},
   "outputs": [
    {
     "data": {
      "text/plain": [
       "229.6769525"
      ]
     },
     "execution_count": 26,
     "metadata": {},
     "output_type": "execute_result"
    }
   ],
   "source": [
    "#Use the argmin() method to find the lowest GDP\n",
    "GDP[np.argmin(GDP)]"
   ]
  },
  {
   "cell_type": "code",
   "execution_count": 27,
   "metadata": {},
   "outputs": [
    {
     "data": {
      "text/plain": [
       "'Ethiopia'"
      ]
     },
     "execution_count": 27,
     "metadata": {},
     "output_type": "execute_result"
    }
   ],
   "source": [
    "#Print the name of the country\n",
    "countries[GDP.argmin()]"
   ]
  },
  {
   "cell_type": "markdown",
   "metadata": {},
   "source": [
    "#### 4: Print out text ('evaluating country') and input value ('country name') iteratively"
   ]
  },
  {
   "cell_type": "code",
   "execution_count": 37,
   "metadata": {},
   "outputs": [
    {
     "name": "stdout",
     "output_type": "stream",
     "text": [
      "Evaluating Country Algeria\n",
      "Evaluating Country Angola\n",
      "Evaluating Country Argentina\n",
      "Evaluating Country Australia\n",
      "Evaluating Country Austria\n",
      "Evaluating Country Bahamas\n",
      "Evaluating Country Bangladesh\n",
      "Evaluating Country Belarus\n",
      "Evaluating Country Belgium\n",
      "Evaluating Country Bhutan\n",
      "Evaluating Country Brazil\n",
      "Evaluating Country Bulgaria\n",
      "Evaluating Country Cambodia\n",
      "Evaluating Country Cameroon\n",
      "Evaluating Country Chile\n",
      "Evaluating Country China\n",
      "Evaluating Country Colombia\n",
      "Evaluating Country Cyprus\n",
      "Evaluating Country Denmark\n",
      "Evaluating Country El Salvador\n",
      "Evaluating Country Estonia\n",
      "Evaluating Country Ethiopia\n",
      "Evaluating Country Fiji\n",
      "Evaluating Country Finland\n",
      "Evaluating Country France\n",
      "Evaluating Country Georgia\n",
      "Evaluating Country Ghana\n",
      "Evaluating Country Grenada\n",
      "Evaluating Country Guinea\n",
      "Evaluating Country Haiti\n",
      "Evaluating Country Honduras\n",
      "Evaluating Country Hungary\n",
      "Evaluating Country India\n",
      "Evaluating Country Indonesia\n",
      "Evaluating Country Ireland\n",
      "Evaluating Country Italy\n",
      "Evaluating Country Japan\n",
      "Evaluating Country Kenya\n",
      "Evaluating Country South Korea\n",
      "Evaluating Country Liberia\n",
      "Evaluating Country Malaysia\n",
      "Evaluating Country Mexico\n",
      "Evaluating Country Morocco\n",
      "Evaluating Country Nepal\n",
      "Evaluating Country New Zealand\n",
      "Evaluating Country Norway\n",
      "Evaluating Country Pakistan\n",
      "Evaluating Country Peru\n",
      "Evaluating Country Qatar\n",
      "Evaluating Country Russia\n",
      "Evaluating Country Singapore\n",
      "Evaluating Country South Africa\n",
      "Evaluating Country Spain\n",
      "Evaluating Country Sweden\n",
      "Evaluating Country Switzerland\n",
      "Evaluating Country Thailand\n",
      "Evaluating Country United Arab Emirates\n",
      "Evaluating Country United Kingdom\n",
      "Evaluating Country United States\n",
      "Evaluating Country Uruguay\n",
      "Evaluating Country Venezuela\n",
      "Evaluating Country Vietnam\n",
      "Evaluating Country Zimbabwe\n"
     ]
    }
   ],
   "source": [
    "#Use a for loop to print the required output\n",
    "for i in countries:\n",
    "    print(\"Evaluating Country {}\".format(i))\n"
   ]
  },
  {
   "cell_type": "markdown",
   "metadata": {},
   "source": [
    "#### 5: Print out the entire list of the countries with their GDPs"
   ]
  },
  {
   "cell_type": "code",
   "execution_count": 40,
   "metadata": {},
   "outputs": [
    {
     "name": "stdout",
     "output_type": "stream",
     "text": [
      "country: Algeria , GDP:2255.225482\n",
      "country: Angola , GDP:629.9553062\n",
      "country: Argentina , GDP:11601.63022\n",
      "country: Australia , GDP:25306.82494\n",
      "country: Austria , GDP:27266.40335\n",
      "country: Bahamas , GDP:19466.99052\n",
      "country: Bangladesh , GDP:588.3691778\n",
      "country: Belarus , GDP:2890.345675\n",
      "country: Belgium , GDP:24733.62696\n",
      "country: Bhutan , GDP:1445.760002\n",
      "country: Brazil , GDP:4803.398244\n",
      "country: Bulgaria , GDP:2618.876037\n",
      "country: Cambodia , GDP:590.4521124\n",
      "country: Cameroon , GDP:665.7982328\n",
      "country: Chile , GDP:7122.938458\n",
      "country: China , GDP:2639.54156\n",
      "country: Colombia , GDP:3362.4656\n",
      "country: Cyprus , GDP:15378.16704\n",
      "country: Denmark , GDP:30860.12808\n",
      "country: El Salvador , GDP:2579.115607\n",
      "country: Estonia , GDP:6525.541272\n",
      "country: Ethiopia , GDP:229.6769525\n",
      "country: Fiji , GDP:2242.689259\n",
      "country: Finland , GDP:27570.4852\n",
      "country: France , GDP:23016.84778\n",
      "country: Georgia , GDP:1334.646773\n",
      "country: Ghana , GDP:402.6953275\n",
      "country: Grenada , GDP:6047.200797\n",
      "country: Guinea , GDP:394.1156638\n",
      "country: Haiti , GDP:385.5793827\n",
      "country: Honduras , GDP:1414.072488\n",
      "country: Hungary , GDP:5745.981529\n",
      "country: India , GDP:837.7464011\n",
      "country: Indonesia , GDP:1206.991065\n",
      "country: Ireland , GDP:27715.52837\n",
      "country: Italy , GDP:18937.24998\n",
      "country: Japan , GDP:39578.07441\n",
      "country: Kenya , GDP:478.2194906\n",
      "country: South Korea , GDP:16684.21278\n",
      "country: Liberia , GDP:279.2204061\n",
      "country: Malaysia , GDP:5345.213415\n",
      "country: Mexico , GDP:6288.25324\n",
      "country: Morocco , GDP:1908.304416\n",
      "country: Nepal , GDP:274.8728621\n",
      "country: New Zealand , GDP:14646.42094\n",
      "country: Norway , GDP:40034.85063\n",
      "country: Pakistan , GDP:672.1547506\n",
      "country: Peru , GDP:3359.517402\n",
      "country: Qatar , GDP:36152.66676\n",
      "country: Russia , GDP:3054.727742\n",
      "country: Singapore , GDP:33529.83052\n",
      "country: South Africa , GDP:3825.093781\n",
      "country: Spain , GDP:15428.32098\n",
      "country: Sweden , GDP:33630.24604\n",
      "country: Switzerland , GDP:39170.41371\n",
      "country: Thailand , GDP:2699.123242\n",
      "country: United Arab Emirates , GDP:21058.43643\n",
      "country: United Kingdom , GDP:28272.40661\n",
      "country: United States , GDP:37691.02733\n",
      "country: Uruguay , GDP:9581.05659\n",
      "country: Venezuela , GDP:5671.912202\n",
      "country: Vietnam , GDP:757.4009286\n",
      "country: Zimbabwe , GDP:347.7456605\n"
     ]
    }
   ],
   "source": [
    "#Use a for loop to print the required list\n",
    "for i in range(len(countries)):\n",
    "    c=countries[i]\n",
    "    g=GDP[i]\n",
    "    print(\"country: {} , GDP:{}\".format(c,g))"
   ]
  },
  {
   "cell_type": "markdown",
   "metadata": {},
   "source": [
    "#### 6: Print the following:\n",
    "1. Highest GPD value\n",
    "2. Lowest GDP value\n",
    "3. Mean GDP value\n",
    "4. Standardized GDP value\n",
    "5. Sum of all the GDPs"
   ]
  },
  {
   "cell_type": "code",
   "execution_count": 41,
   "metadata": {},
   "outputs": [
    {
     "data": {
      "text/plain": [
       "40034.85063"
      ]
     },
     "execution_count": 41,
     "metadata": {},
     "output_type": "execute_result"
    }
   ],
   "source": [
    "#1.Highest GDP\n",
    "GDP[GDP.argmax()]"
   ]
  },
  {
   "cell_type": "code",
   "execution_count": 42,
   "metadata": {},
   "outputs": [
    {
     "data": {
      "text/plain": [
       "229.6769525"
      ]
     },
     "execution_count": 42,
     "metadata": {},
     "output_type": "execute_result"
    }
   ],
   "source": [
    "#2.Lowest GDP value\n",
    "GDP[GDP.argmin()]"
   ]
  },
  {
   "cell_type": "code",
   "execution_count": 43,
   "metadata": {},
   "outputs": [
    {
     "data": {
      "text/plain": [
       "11289.409271639683"
      ]
     },
     "execution_count": 43,
     "metadata": {},
     "output_type": "execute_result"
    }
   ],
   "source": [
    "#3.Mean GDP value\n",
    "np.mean(GDP)"
   ]
  },
  {
   "cell_type": "code",
   "execution_count": 45,
   "metadata": {},
   "outputs": [
    {
     "data": {
      "text/plain": [
       "12743.828910617945"
      ]
     },
     "execution_count": 45,
     "metadata": {},
     "output_type": "execute_result"
    }
   ],
   "source": [
    "#4.Standardized GDP value\n",
    "np.std(GDP)"
   ]
  },
  {
   "cell_type": "code",
   "execution_count": 46,
   "metadata": {},
   "outputs": [
    {
     "data": {
      "text/plain": [
       "711232.7841133"
      ]
     },
     "execution_count": 46,
     "metadata": {},
     "output_type": "execute_result"
    }
   ],
   "source": [
    "#5. Sum of all the GDPs\n",
    "np.sum(GDP)"
   ]
  },
  {
   "cell_type": "code",
   "execution_count": null,
   "metadata": {},
   "outputs": [],
   "source": []
  },
  {
   "cell_type": "code",
   "execution_count": null,
   "metadata": {},
   "outputs": [],
   "source": []
  }
 ],
 "metadata": {
  "kernelspec": {
   "display_name": "Python 3 (ipykernel)",
   "language": "python",
   "name": "python3"
  },
  "language_info": {
   "codemirror_mode": {
    "name": "ipython",
    "version": 3
   },
   "file_extension": ".py",
   "mimetype": "text/x-python",
   "name": "python",
   "nbconvert_exporter": "python",
   "pygments_lexer": "ipython3",
   "version": "3.9.12"
  }
 },
 "nbformat": 4,
 "nbformat_minor": 1
}
